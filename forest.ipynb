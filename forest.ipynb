{
 "cells": [
  {
   "cell_type": "code",
   "execution_count": 1,
   "metadata": {},
   "outputs": [],
   "source": [
    "import numpy as np\n",
    "import cv2 as cv\n",
    "import random\n",
    "\n",
    "# general parameters\n",
    "width = 900\n",
    "height = 600\n",
    "n_trees = 30\n",
    "ground_level = height-100\n",
    "\n",
    "# colours\n",
    "green, light_green, brown = (40,185,40),(25,220,0),(30,65,155)\n",
    "\n",
    "# blank image\n",
    "bg = np.zeros((height, width, 3), dtype=np.uint8)\n",
    "\n",
    "# draw background\n",
    "cv.rectangle(bg,(width,0), (0, ground_level), (255,225,95), -1)\n",
    "\n",
    "# **************************************************************************\n",
    "class Tree:\n",
    "    def __init__(self, image, location):\n",
    "        self.img = image\n",
    "        self.loc = int(np.random.choice(range(900), 1))\n",
    "        self.ht = int(np.random.choice(range(200, 400), 1))\n",
    "        self.radius = 50\n",
    "        self.scale = float(np.random.choice(np.linspace(0.5, 3, num=8), 1))\n",
    "\n",
    "    def generate_colours(self):\n",
    "        green = (0, random.randint(130,200), 0)\n",
    "        light_green = (35, random.randint(200,250), 35)\n",
    "        brown = random.choice([(2,30,85), (5,55,120), (0,70,140)])\n",
    "        return green, light_green, brown\n",
    "\n",
    "    def draw(self):\n",
    "        small_radius = int(self.radius*self.scale-20*self.scale)\n",
    "        green, light_green, brown = self.generate_colours()\n",
    "\n",
    "        # leafs - shadows\n",
    "        cv.circle(self.img, (self.loc, ground_level-self.ht), int(self.radius*self.scale), green, -1)\n",
    "        cv.circle(self.img, (self.loc-int(45*self.scale), ground_level-self.ht+small_radius), small_radius, green, -1)\n",
    "        cv.circle(self.img, (self.loc+int(45*self.scale), ground_level-self.ht+small_radius), small_radius, green, -1)\n",
    "\n",
    "        # trunk\n",
    "        cv.line(self.img, (self.loc, ground_level), (self.loc, ground_level-self.ht), brown, int(20*self.scale))\n",
    "        cv.line(self.img, (self.loc, ground_level-self.ht+int(75*self.scale)), (self.loc+int(45*self.scale), ground_level-self.ht+small_radius), brown, int(5*self.scale))\n",
    "        cv.line(self.img, (self.loc, ground_level-self.ht+int(75*self.scale)), (self.loc-int(45*self.scale), ground_level-self.ht+small_radius), brown, int(5*self.scale))\n",
    "\n",
    "        # leafs - highlights\n",
    "        cv.circle(self.img, (self.loc, ground_level-self.ht), int(self.radius*self.scale-10*self.scale), light_green, -1)\n",
    "        cv.circle(self.img, (self.loc-int(45*self.scale), ground_level-self.ht+small_radius), small_radius-int(10*self.scale), light_green, -1)\n",
    "        cv.circle(self.img, (self.loc+int(45*self.scale), ground_level-self.ht+small_radius), small_radius-int(10*self.scale), light_green, -1)\n",
    "\n",
    "        cv.rectangle(bg,(width, ground_level), (0, height), (70,180,75), -1)\n",
    "\n",
    "        return self.img\n",
    "# **************************************************************************\n",
    "\n",
    "# display image\n",
    "for i in range(n_trees):\n",
    "    img = Tree(bg, np.NaN).draw()\n",
    "\n",
    "# window name\n",
    "cv.imshow('Cool Newborn Forest', img) \n",
    "\n",
    "# window control\n",
    "cv.waitKey(0)\n",
    "cv.destroyAllWindows()"
   ]
  },
  {
   "cell_type": "code",
   "execution_count": null,
   "metadata": {},
   "outputs": [],
   "source": []
  },
  {
   "cell_type": "code",
   "execution_count": null,
   "metadata": {},
   "outputs": [],
   "source": []
  }
 ],
 "metadata": {
  "interpreter": {
   "hash": "31f2aee4e71d21fbe5cf8b01ff0e069b9275f58929596ceb00d14d90e3e16cd6"
  },
  "kernelspec": {
   "display_name": "Python 3.8.10 64-bit",
   "language": "python",
   "name": "python3"
  },
  "language_info": {
   "codemirror_mode": {
    "name": "ipython",
    "version": 3
   },
   "file_extension": ".py",
   "mimetype": "text/x-python",
   "name": "python",
   "nbconvert_exporter": "python",
   "pygments_lexer": "ipython3",
   "version": "3.8.10"
  },
  "orig_nbformat": 4
 },
 "nbformat": 4,
 "nbformat_minor": 2
}
